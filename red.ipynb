{
 "cells": [
  {
   "cell_type": "code",
   "execution_count": 1,
   "metadata": {
    "tags": []
   },
   "outputs": [
    {
     "data": {
      "text/html": [
       "<div>\n",
       "<style scoped>\n",
       "    .dataframe tbody tr th:only-of-type {\n",
       "        vertical-align: middle;\n",
       "    }\n",
       "\n",
       "    .dataframe tbody tr th {\n",
       "        vertical-align: top;\n",
       "    }\n",
       "\n",
       "    .dataframe thead th {\n",
       "        text-align: right;\n",
       "    }\n",
       "</style>\n",
       "<table border=\"1\" class=\"dataframe\">\n",
       "  <thead>\n",
       "    <tr style=\"text-align: right;\">\n",
       "      <th></th>\n",
       "      <th>purchasing_amount</th>\n",
       "      <th>gender</th>\n",
       "      <th>age</th>\n",
       "      <th>last_month_engage</th>\n",
       "      <th>lifecycle</th>\n",
       "      <th>days_since_last_order</th>\n",
       "      <th>comulative_purchase_amount</th>\n",
       "      <th>3rd_party_store</th>\n",
       "    </tr>\n",
       "  </thead>\n",
       "  <tbody>\n",
       "    <tr>\n",
       "      <th>0</th>\n",
       "      <td>72.98</td>\n",
       "      <td>1.0</td>\n",
       "      <td>59.0</td>\n",
       "      <td>0.0</td>\n",
       "      <td>B</td>\n",
       "      <td>4.26</td>\n",
       "      <td>2343.870</td>\n",
       "      <td>0</td>\n",
       "    </tr>\n",
       "    <tr>\n",
       "      <th>1</th>\n",
       "      <td>200.99</td>\n",
       "      <td>1.0</td>\n",
       "      <td>51.0</td>\n",
       "      <td>0.0</td>\n",
       "      <td>A</td>\n",
       "      <td>0.94</td>\n",
       "      <td>8539.872</td>\n",
       "      <td>0</td>\n",
       "    </tr>\n",
       "    <tr>\n",
       "      <th>2</th>\n",
       "      <td>69.98</td>\n",
       "      <td>1.0</td>\n",
       "      <td>79.0</td>\n",
       "      <td>0.0</td>\n",
       "      <td>C</td>\n",
       "      <td>4.29</td>\n",
       "      <td>1687.646</td>\n",
       "      <td>1</td>\n",
       "    </tr>\n",
       "    <tr>\n",
       "      <th>3</th>\n",
       "      <td>649.99</td>\n",
       "      <td>NaN</td>\n",
       "      <td>NaN</td>\n",
       "      <td>NaN</td>\n",
       "      <td>C</td>\n",
       "      <td>14.90</td>\n",
       "      <td>3498.846</td>\n",
       "      <td>0</td>\n",
       "    </tr>\n",
       "    <tr>\n",
       "      <th>4</th>\n",
       "      <td>83.59</td>\n",
       "      <td>NaN</td>\n",
       "      <td>NaN</td>\n",
       "      <td>NaN</td>\n",
       "      <td>C</td>\n",
       "      <td>21.13</td>\n",
       "      <td>3968.490</td>\n",
       "      <td>4</td>\n",
       "    </tr>\n",
       "    <tr>\n",
       "      <th>5</th>\n",
       "      <td>319.99</td>\n",
       "      <td>1.0</td>\n",
       "      <td>80.0</td>\n",
       "      <td>0.0</td>\n",
       "      <td>C</td>\n",
       "      <td>15.13</td>\n",
       "      <td>2811.491</td>\n",
       "      <td>10</td>\n",
       "    </tr>\n",
       "    <tr>\n",
       "      <th>6</th>\n",
       "      <td>140.00</td>\n",
       "      <td>1.0</td>\n",
       "      <td>60.0</td>\n",
       "      <td>0.0</td>\n",
       "      <td>C</td>\n",
       "      <td>11.45</td>\n",
       "      <td>769.990</td>\n",
       "      <td>4</td>\n",
       "    </tr>\n",
       "    <tr>\n",
       "      <th>7</th>\n",
       "      <td>51.98</td>\n",
       "      <td>1.0</td>\n",
       "      <td>61.0</td>\n",
       "      <td>0.0</td>\n",
       "      <td>C</td>\n",
       "      <td>3.71</td>\n",
       "      <td>2542.822</td>\n",
       "      <td>1</td>\n",
       "    </tr>\n",
       "    <tr>\n",
       "      <th>8</th>\n",
       "      <td>587.99</td>\n",
       "      <td>NaN</td>\n",
       "      <td>NaN</td>\n",
       "      <td>NaN</td>\n",
       "      <td>C</td>\n",
       "      <td>22.42</td>\n",
       "      <td>602.980</td>\n",
       "      <td>10</td>\n",
       "    </tr>\n",
       "    <tr>\n",
       "      <th>9</th>\n",
       "      <td>349.99</td>\n",
       "      <td>NaN</td>\n",
       "      <td>NaN</td>\n",
       "      <td>NaN</td>\n",
       "      <td>C</td>\n",
       "      <td>8.26</td>\n",
       "      <td>298.790</td>\n",
       "      <td>3</td>\n",
       "    </tr>\n",
       "  </tbody>\n",
       "</table>\n",
       "</div>"
      ],
      "text/plain": [
       "   purchasing_amount  gender   age  last_month_engage lifecycle  \\\n",
       "0              72.98     1.0  59.0                0.0         B   \n",
       "1             200.99     1.0  51.0                0.0         A   \n",
       "2              69.98     1.0  79.0                0.0         C   \n",
       "3             649.99     NaN   NaN                NaN         C   \n",
       "4              83.59     NaN   NaN                NaN         C   \n",
       "5             319.99     1.0  80.0                0.0         C   \n",
       "6             140.00     1.0  60.0                0.0         C   \n",
       "7              51.98     1.0  61.0                0.0         C   \n",
       "8             587.99     NaN   NaN                NaN         C   \n",
       "9             349.99     NaN   NaN                NaN         C   \n",
       "\n",
       "   days_since_last_order  comulative_purchase_amount  3rd_party_store  \n",
       "0                   4.26                    2343.870                0  \n",
       "1                   0.94                    8539.872                0  \n",
       "2                   4.29                    1687.646                1  \n",
       "3                  14.90                    3498.846                0  \n",
       "4                  21.13                    3968.490                4  \n",
       "5                  15.13                    2811.491               10  \n",
       "6                  11.45                     769.990                4  \n",
       "7                   3.71                    2542.822                1  \n",
       "8                  22.42                     602.980               10  \n",
       "9                   8.26                     298.790                3  "
      ]
     },
     "execution_count": 1,
     "metadata": {},
     "output_type": "execute_result"
    }
   ],
   "source": [
    "#import modules\n",
    "import matplotlib.pyplot as plt\n",
    "import pandas as pd\n",
    "import seaborn as sns\n",
    "from sklearn.linear_model import LinearRegression\n",
    "from statsmodels.formula.api import ols\n",
    "%matplotlib inline\n",
    "\n",
    "#import data\n",
    "red = pd.read_csv('redNew.csv')\n",
    "red.head(10)"
   ]
  },
  {
   "cell_type": "code",
   "execution_count": 2,
   "metadata": {
    "tags": []
   },
   "outputs": [
    {
     "name": "stdout",
     "output_type": "stream",
     "text": [
      "<class 'pandas.core.frame.DataFrame'>\n",
      "RangeIndex: 29452 entries, 0 to 29451\n",
      "Data columns (total 8 columns):\n",
      " #   Column                      Non-Null Count  Dtype  \n",
      "---  ------                      --------------  -----  \n",
      " 0   purchasing_amount           29452 non-null  float64\n",
      " 1   gender                      17723 non-null  float64\n",
      " 2   age                         16716 non-null  float64\n",
      " 3   last_month_engage           17723 non-null  float64\n",
      " 4   lifecycle                   29452 non-null  object \n",
      " 5   days_since_last_order       29452 non-null  float64\n",
      " 6   comulative_purchase_amount  29452 non-null  float64\n",
      " 7   3rd_party_store             29452 non-null  int64  \n",
      "dtypes: float64(6), int64(1), object(1)\n",
      "memory usage: 1.8+ MB\n"
     ]
    }
   ],
   "source": [
    "red.info()"
   ]
  },
  {
   "cell_type": "markdown",
   "metadata": {},
   "source": [
    "total lines of data: 29452，gender, age, last_month_engage have missing values"
   ]
  },
  {
   "cell_type": "code",
   "execution_count": 3,
   "metadata": {},
   "outputs": [
    {
     "data": {
      "text/plain": [
       "purchasing_amount                 0\n",
       "gender                        11729\n",
       "age                           12736\n",
       "last_month_engage             11729\n",
       "lifecycle                         0\n",
       "days_since_last_order             0\n",
       "comulative_purchase_amount        0\n",
       "3rd_party_store                   0\n",
       "dtype: int64"
      ]
     },
     "execution_count": 3,
     "metadata": {},
     "output_type": "execute_result"
    }
   ],
   "source": [
    "#check number of missing values \n",
    "red.isnull().sum()"
   ]
  },
  {
   "cell_type": "code",
   "execution_count": 4,
   "metadata": {},
   "outputs": [
    {
     "data": {
      "text/plain": [
       "purchasing_amount             29452\n",
       "gender                        17723\n",
       "age                           16716\n",
       "last_month_engage             17723\n",
       "lifecycle                     29452\n",
       "days_since_last_order         29452\n",
       "comulative_purchase_amount    29452\n",
       "3rd_party_store               29452\n",
       "dtype: int64"
      ]
     },
     "execution_count": 4,
     "metadata": {},
     "output_type": "execute_result"
    }
   ],
   "source": [
    "#count the number of total index\n",
    "red.count()"
   ]
  },
  {
   "cell_type": "code",
   "execution_count": 5,
   "metadata": {},
   "outputs": [
    {
     "data": {
      "text/plain": [
       "purchasing_amount             0.000000\n",
       "gender                        0.661795\n",
       "age                           0.761905\n",
       "last_month_engage             0.661795\n",
       "lifecycle                     0.000000\n",
       "days_since_last_order         0.000000\n",
       "comulative_purchase_amount    0.000000\n",
       "3rd_party_store               0.000000\n",
       "dtype: float64"
      ]
     },
     "execution_count": 5,
     "metadata": {},
     "output_type": "execute_result"
    }
   ],
   "source": [
    "# check ratio of missing index to the total \n",
    "red.isnull().sum()/red.count()"
   ]
  },
  {
   "cell_type": "markdown",
   "metadata": {},
   "source": [
    "ratio of missing values is around 70%，thus we cannot direct delete missing values. "
   ]
  },
  {
   "cell_type": "code",
   "execution_count": 6,
   "metadata": {},
   "outputs": [
    {
     "data": {
      "text/html": [
       "<div>\n",
       "<style scoped>\n",
       "    .dataframe tbody tr th:only-of-type {\n",
       "        vertical-align: middle;\n",
       "    }\n",
       "\n",
       "    .dataframe tbody tr th {\n",
       "        vertical-align: top;\n",
       "    }\n",
       "\n",
       "    .dataframe thead th {\n",
       "        text-align: right;\n",
       "    }\n",
       "</style>\n",
       "<table border=\"1\" class=\"dataframe\">\n",
       "  <thead>\n",
       "    <tr style=\"text-align: right;\">\n",
       "      <th></th>\n",
       "      <th>purchasing_amount</th>\n",
       "      <th>gender</th>\n",
       "      <th>age</th>\n",
       "      <th>last_month_engage</th>\n",
       "      <th>days_since_last_order</th>\n",
       "      <th>comulative_purchase_amount</th>\n",
       "      <th>3rd_party_store</th>\n",
       "    </tr>\n",
       "  </thead>\n",
       "  <tbody>\n",
       "    <tr>\n",
       "      <th>count</th>\n",
       "      <td>29452.000000</td>\n",
       "      <td>17723.000000</td>\n",
       "      <td>16716.000000</td>\n",
       "      <td>17723.000000</td>\n",
       "      <td>29452.000000</td>\n",
       "      <td>29452.000000</td>\n",
       "      <td>29452.000000</td>\n",
       "    </tr>\n",
       "    <tr>\n",
       "      <th>mean</th>\n",
       "      <td>398.288037</td>\n",
       "      <td>0.950742</td>\n",
       "      <td>60.397404</td>\n",
       "      <td>0.073069</td>\n",
       "      <td>7.711348</td>\n",
       "      <td>2348.904830</td>\n",
       "      <td>2.286059</td>\n",
       "    </tr>\n",
       "    <tr>\n",
       "      <th>std</th>\n",
       "      <td>960.251728</td>\n",
       "      <td>0.216412</td>\n",
       "      <td>14.823026</td>\n",
       "      <td>0.260257</td>\n",
       "      <td>6.489289</td>\n",
       "      <td>2379.774213</td>\n",
       "      <td>3.538219</td>\n",
       "    </tr>\n",
       "    <tr>\n",
       "      <th>min</th>\n",
       "      <td>0.020000</td>\n",
       "      <td>0.000000</td>\n",
       "      <td>18.000000</td>\n",
       "      <td>0.000000</td>\n",
       "      <td>0.130000</td>\n",
       "      <td>0.000000</td>\n",
       "      <td>0.000000</td>\n",
       "    </tr>\n",
       "    <tr>\n",
       "      <th>25%</th>\n",
       "      <td>74.970000</td>\n",
       "      <td>1.000000</td>\n",
       "      <td>50.000000</td>\n",
       "      <td>0.000000</td>\n",
       "      <td>2.190000</td>\n",
       "      <td>773.506250</td>\n",
       "      <td>0.000000</td>\n",
       "    </tr>\n",
       "    <tr>\n",
       "      <th>50%</th>\n",
       "      <td>175.980000</td>\n",
       "      <td>1.000000</td>\n",
       "      <td>60.000000</td>\n",
       "      <td>0.000000</td>\n",
       "      <td>5.970000</td>\n",
       "      <td>1655.980000</td>\n",
       "      <td>0.000000</td>\n",
       "    </tr>\n",
       "    <tr>\n",
       "      <th>75%</th>\n",
       "      <td>499.990000</td>\n",
       "      <td>1.000000</td>\n",
       "      <td>70.000000</td>\n",
       "      <td>0.000000</td>\n",
       "      <td>11.740000</td>\n",
       "      <td>3096.766500</td>\n",
       "      <td>3.000000</td>\n",
       "    </tr>\n",
       "    <tr>\n",
       "      <th>max</th>\n",
       "      <td>103466.100000</td>\n",
       "      <td>1.000000</td>\n",
       "      <td>99.000000</td>\n",
       "      <td>1.000000</td>\n",
       "      <td>23.710000</td>\n",
       "      <td>11597.900000</td>\n",
       "      <td>10.000000</td>\n",
       "    </tr>\n",
       "  </tbody>\n",
       "</table>\n",
       "</div>"
      ],
      "text/plain": [
       "       purchasing_amount        gender           age  last_month_engage  \\\n",
       "count       29452.000000  17723.000000  16716.000000       17723.000000   \n",
       "mean          398.288037      0.950742     60.397404           0.073069   \n",
       "std           960.251728      0.216412     14.823026           0.260257   \n",
       "min             0.020000      0.000000     18.000000           0.000000   \n",
       "25%            74.970000      1.000000     50.000000           0.000000   \n",
       "50%           175.980000      1.000000     60.000000           0.000000   \n",
       "75%           499.990000      1.000000     70.000000           0.000000   \n",
       "max        103466.100000      1.000000     99.000000           1.000000   \n",
       "\n",
       "       days_since_last_order  comulative_purchase_amount  3rd_party_store  \n",
       "count           29452.000000                29452.000000     29452.000000  \n",
       "mean                7.711348                 2348.904830         2.286059  \n",
       "std                 6.489289                 2379.774213         3.538219  \n",
       "min                 0.130000                    0.000000         0.000000  \n",
       "25%                 2.190000                  773.506250         0.000000  \n",
       "50%                 5.970000                 1655.980000         0.000000  \n",
       "75%                11.740000                 3096.766500         3.000000  \n",
       "max                23.710000                11597.900000        10.000000  "
      ]
     },
     "execution_count": 6,
     "metadata": {},
     "output_type": "execute_result"
    }
   ],
   "source": [
    "red.describe()"
   ]
  },
  {
   "cell_type": "code",
   "execution_count": 7,
   "metadata": {
    "tags": []
   },
   "outputs": [],
   "source": [
    "# gender, last_month_engage are categorical variables, we replace missing values to unknown\n",
    "\n",
    "red['gender'] = red['gender'].fillna('unknown')\n",
    "red['last_month_engage'] = red['last_month_engage'].fillna('unknown')"
   ]
  },
  {
   "cell_type": "code",
   "execution_count": 8,
   "metadata": {
    "tags": []
   },
   "outputs": [
    {
     "name": "stdout",
     "output_type": "stream",
     "text": [
      "<class 'pandas.core.frame.DataFrame'>\n",
      "RangeIndex: 29452 entries, 0 to 29451\n",
      "Data columns (total 8 columns):\n",
      " #   Column                      Non-Null Count  Dtype  \n",
      "---  ------                      --------------  -----  \n",
      " 0   purchasing_amount           29452 non-null  float64\n",
      " 1   gender                      29452 non-null  object \n",
      " 2   age                         29452 non-null  float64\n",
      " 3   last_month_engage           29452 non-null  object \n",
      " 4   lifecycle                   29452 non-null  object \n",
      " 5   days_since_last_order       29452 non-null  float64\n",
      " 6   comulative_purchase_amount  29452 non-null  float64\n",
      " 7   3rd_party_store             29452 non-null  int64  \n",
      "dtypes: float64(4), int64(1), object(3)\n",
      "memory usage: 1.8+ MB\n"
     ]
    }
   ],
   "source": [
    "# age is numerical variables, we can compute the mean value or median value to replace missing values\n",
    "red = red.fillna(red.mean())\n",
    "red.info()"
   ]
  },
  {
   "cell_type": "code",
   "execution_count": 9,
   "metadata": {},
   "outputs": [
    {
     "data": {
      "text/html": [
       "<div>\n",
       "<style scoped>\n",
       "    .dataframe tbody tr th:only-of-type {\n",
       "        vertical-align: middle;\n",
       "    }\n",
       "\n",
       "    .dataframe tbody tr th {\n",
       "        vertical-align: top;\n",
       "    }\n",
       "\n",
       "    .dataframe thead th {\n",
       "        text-align: right;\n",
       "    }\n",
       "</style>\n",
       "<table border=\"1\" class=\"dataframe\">\n",
       "  <thead>\n",
       "    <tr style=\"text-align: right;\">\n",
       "      <th></th>\n",
       "      <th>purchasing_amount</th>\n",
       "      <th>gender</th>\n",
       "      <th>age</th>\n",
       "      <th>last_month_engage</th>\n",
       "      <th>lifecycle</th>\n",
       "      <th>days_since_last_order</th>\n",
       "      <th>comulative_purchase_amount</th>\n",
       "      <th>3rd_party_store</th>\n",
       "    </tr>\n",
       "  </thead>\n",
       "  <tbody>\n",
       "    <tr>\n",
       "      <th>0</th>\n",
       "      <td>72.98</td>\n",
       "      <td>1.0</td>\n",
       "      <td>59.000000</td>\n",
       "      <td>0.0</td>\n",
       "      <td>B</td>\n",
       "      <td>4.26</td>\n",
       "      <td>2343.870</td>\n",
       "      <td>0</td>\n",
       "    </tr>\n",
       "    <tr>\n",
       "      <th>1</th>\n",
       "      <td>200.99</td>\n",
       "      <td>1.0</td>\n",
       "      <td>51.000000</td>\n",
       "      <td>0.0</td>\n",
       "      <td>A</td>\n",
       "      <td>0.94</td>\n",
       "      <td>8539.872</td>\n",
       "      <td>0</td>\n",
       "    </tr>\n",
       "    <tr>\n",
       "      <th>2</th>\n",
       "      <td>69.98</td>\n",
       "      <td>1.0</td>\n",
       "      <td>79.000000</td>\n",
       "      <td>0.0</td>\n",
       "      <td>C</td>\n",
       "      <td>4.29</td>\n",
       "      <td>1687.646</td>\n",
       "      <td>1</td>\n",
       "    </tr>\n",
       "    <tr>\n",
       "      <th>3</th>\n",
       "      <td>649.99</td>\n",
       "      <td>unknown</td>\n",
       "      <td>60.397404</td>\n",
       "      <td>unknown</td>\n",
       "      <td>C</td>\n",
       "      <td>14.90</td>\n",
       "      <td>3498.846</td>\n",
       "      <td>0</td>\n",
       "    </tr>\n",
       "    <tr>\n",
       "      <th>4</th>\n",
       "      <td>83.59</td>\n",
       "      <td>unknown</td>\n",
       "      <td>60.397404</td>\n",
       "      <td>unknown</td>\n",
       "      <td>C</td>\n",
       "      <td>21.13</td>\n",
       "      <td>3968.490</td>\n",
       "      <td>4</td>\n",
       "    </tr>\n",
       "  </tbody>\n",
       "</table>\n",
       "</div>"
      ],
      "text/plain": [
       "   purchasing_amount   gender        age last_month_engage lifecycle  \\\n",
       "0              72.98      1.0  59.000000               0.0         B   \n",
       "1             200.99      1.0  51.000000               0.0         A   \n",
       "2              69.98      1.0  79.000000               0.0         C   \n",
       "3             649.99  unknown  60.397404           unknown         C   \n",
       "4              83.59  unknown  60.397404           unknown         C   \n",
       "\n",
       "   days_since_last_order  comulative_purchase_amount  3rd_party_store  \n",
       "0                   4.26                    2343.870                0  \n",
       "1                   0.94                    8539.872                0  \n",
       "2                   4.29                    1687.646                1  \n",
       "3                  14.90                    3498.846                0  \n",
       "4                  21.13                    3968.490                4  "
      ]
     },
     "execution_count": 9,
     "metadata": {},
     "output_type": "execute_result"
    }
   ],
   "source": [
    "red.head()"
   ]
  },
  {
   "cell_type": "code",
   "execution_count": 10,
   "metadata": {
    "tags": []
   },
   "outputs": [
    {
     "name": "stdout",
     "output_type": "stream",
     "text": [
      "<class 'pandas.core.frame.DataFrame'>\n",
      "RangeIndex: 29452 entries, 0 to 29451\n",
      "Data columns (total 8 columns):\n",
      " #   Column                      Non-Null Count  Dtype  \n",
      "---  ------                      --------------  -----  \n",
      " 0   purchasing_amount           29452 non-null  float64\n",
      " 1   gender                      29452 non-null  object \n",
      " 2   age                         29452 non-null  float64\n",
      " 3   last_month_engage           29452 non-null  object \n",
      " 4   lifecycle                   29452 non-null  object \n",
      " 5   days_since_last_order       29452 non-null  float64\n",
      " 6   comulative_purchase_amount  29452 non-null  float64\n",
      " 7   3rd_party_store             29452 non-null  int64  \n",
      "dtypes: float64(4), int64(1), object(3)\n",
      "memory usage: 1.8+ MB\n"
     ]
    }
   ],
   "source": [
    "#remove space in front of days_since_last_order \n",
    "red.rename(columns = {' days_since_last_order ':'days_since_last_order'}, inplace = True)\n",
    "red.info()"
   ]
  },
  {
   "cell_type": "markdown",
   "metadata": {},
   "source": [
    "# 2 Univariate analysis"
   ]
  },
  {
   "cell_type": "markdown",
   "metadata": {},
   "source": [
    "## 2.1 numerical variable"
   ]
  },
  {
   "cell_type": "code",
   "execution_count": 11,
   "metadata": {},
   "outputs": [
    {
     "name": "stderr",
     "output_type": "stream",
     "text": [
      "/Users/zhijiewei/opt/anaconda3/lib/python3.8/site-packages/seaborn/distributions.py:2557: FutureWarning: `distplot` is a deprecated function and will be removed in a future version. Please adapt your code to use either `displot` (a figure-level function with similar flexibility) or `histplot` (an axes-level function for histograms).\n",
      "  warnings.warn(msg, FutureWarning)\n"
     ]
    },
    {
     "data": {
      "text/plain": [
       "<AxesSubplot:xlabel='purchasing_amount', ylabel='Density'>"
      ]
     },
     "execution_count": 11,
     "metadata": {},
     "output_type": "execute_result"
    },
    {
     "data": {
      "image/png": "[encoded data removed]",
      "text/plain": [
       "<Figure size 432x288 with 1 Axes>"
      ]
     },
     "metadata": {
      "needs_background": "light"
     },
     "output_type": "display_data"
    }
   ],
   "source": [
    "# see density of purchasing amount variable \n",
    "sns.distplot(red['purchasing_amount'], color = 'green')"
   ]
  },
  {
   "cell_type": "code",
   "execution_count": 12,
   "metadata": {},
   "outputs": [
    {
     "name": "stderr",
     "output_type": "stream",
     "text": [
      "/Users/zhijiewei/opt/anaconda3/lib/python3.8/site-packages/seaborn/distributions.py:2557: FutureWarning: `distplot` is a deprecated function and will be removed in a future version. Please adapt your code to use either `displot` (a figure-level function with similar flexibility) or `histplot` (an axes-level function for histograms).\n",
      "  warnings.warn(msg, FutureWarning)\n"
     ]
    },
    {
     "data": {
      "text/plain": [
       "<AxesSubplot:xlabel='comulative_purchase_amount', ylabel='Density'>"
      ]
     },
     "execution_count": 12,
     "metadata": {},
     "output_type": "execute_result"
    },
    {
     "data": {
      "image/png": "[encoded data removed]",
      "text/plain": [
       "<Figure size 432x288 with 1 Axes>"
      ]
     },
     "metadata": {
      "needs_background": "light"
     },
     "output_type": "display_data"
    }
   ],
   "source": [
    "sns.distplot(red['comulative_purchase_amount'], color=\"red\")"
   ]
  },
  {
   "cell_type": "code",
   "execution_count": 13,
   "metadata": {},
   "outputs": [
    {
     "name": "stderr",
     "output_type": "stream",
     "text": [
      "/Users/zhijiewei/opt/anaconda3/lib/python3.8/site-packages/seaborn/distributions.py:2557: FutureWarning: `distplot` is a deprecated function and will be removed in a future version. Please adapt your code to use either `displot` (a figure-level function with similar flexibility) or `histplot` (an axes-level function for histograms).\n",
      "  warnings.warn(msg, FutureWarning)\n"
     ]
    },
    {
     "data": {
      "text/plain": [
       "<AxesSubplot:xlabel='age', ylabel='Density'>"
      ]
     },
     "execution_count": 13,
     "metadata": {},
     "output_type": "execute_result"
    },
    {
     "data": {
      "image/png": "[encoded data removed]",
      "text/plain": [
       "<Figure size 432x288 with 1 Axes>"
      ]
     },
     "metadata": {
      "needs_background": "light"
     },
     "output_type": "display_data"
    }
   ],
   "source": [
    "sns.distplot(red['age'], bins=50)"
   ]
  },
  {
   "cell_type": "code",
   "execution_count": 14,
   "metadata": {
    "scrolled": true,
    "tags": []
   },
   "outputs": [
    {
     "data": {
      "text/plain": [
       "count    29452.000000\n",
       "mean        60.397404\n",
       "std         11.167091\n",
       "min         18.000000\n",
       "25%         58.000000\n",
       "50%         60.397404\n",
       "75%         62.000000\n",
       "max         99.000000\n",
       "Name: age, dtype: float64"
      ]
     },
     "execution_count": 14,
     "metadata": {},
     "output_type": "execute_result"
    }
   ],
   "source": [
    "red['age'].describe()"
   ]
  },
  {
   "cell_type": "markdown",
   "metadata": {},
   "source": [
    "- According to the distplot of age, we can see\n",
    "the user age is distributed between 18-99 years old, \n",
    "the average user age is 60.39 years old, \n",
    "the median user age is 60.39 years old, \n",
    "and the vast majority of users are between 58 - 63 years old.\n"
   ]
  },
  {
   "cell_type": "code",
   "execution_count": 15,
   "metadata": {},
   "outputs": [
    {
     "name": "stderr",
     "output_type": "stream",
     "text": [
      "/Users/zhijiewei/opt/anaconda3/lib/python3.8/site-packages/seaborn/distributions.py:2557: FutureWarning: `distplot` is a deprecated function and will be removed in a future version. Please adapt your code to use either `displot` (a figure-level function with similar flexibility) or `histplot` (an axes-level function for histograms).\n",
      "  warnings.warn(msg, FutureWarning)\n"
     ]
    },
    {
     "data": {
      "text/plain": [
       "<AxesSubplot:xlabel='days_since_last_order', ylabel='Density'>"
      ]
     },
     "execution_count": 15,
     "metadata": {},
     "output_type": "execute_result"
    },
    {
     "data": {
      "image/png": "[encoded data removed]",
      "text/plain": [
       "<Figure size 432x288 with 1 Axes>"
      ]
     },
     "metadata": {
      "needs_background": "light"
     },
     "output_type": "display_data"
    }
   ],
   "source": [
    "sns.distplot(red['days_since_last_order'])"
   ]
  },
  {
   "cell_type": "code",
   "execution_count": 16,
   "metadata": {},
   "outputs": [
    {
     "data": {
      "text/plain": [
       "count    29452.000000\n",
       "mean         7.711348\n",
       "std          6.489289\n",
       "min          0.130000\n",
       "25%          2.190000\n",
       "50%          5.970000\n",
       "75%         11.740000\n",
       "max         23.710000\n",
       "Name: days_since_last_order, dtype: float64"
      ]
     },
     "execution_count": 16,
     "metadata": {},
     "output_type": "execute_result"
    }
   ],
   "source": [
    "red['days_since_last_order'].describe()"
   ]
  },
  {
   "cell_type": "markdown",
   "metadata": {},
   "source": [
    "- The number of days since the last time a user placed an order is distributed between 0 and 23 days. \n",
    "- All users have placed orders within this month.\n",
    "- The user will make an order again after an average of 7.7 days. \n",
    "- The frequency of 0-1 days from the last time the user made an order is relatively higher."
   ]
  },
  {
   "cell_type": "markdown",
   "metadata": {},
   "source": [
    "## 2.2 categorical variables "
   ]
  },
  {
   "cell_type": "code",
   "execution_count": 17,
   "metadata": {
    "tags": []
   },
   "outputs": [
    {
     "data": {
      "text/html": [
       "<div>\n",
       "<style scoped>\n",
       "    .dataframe tbody tr th:only-of-type {\n",
       "        vertical-align: middle;\n",
       "    }\n",
       "\n",
       "    .dataframe tbody tr th {\n",
       "        vertical-align: top;\n",
       "    }\n",
       "\n",
       "    .dataframe thead th {\n",
       "        text-align: right;\n",
       "    }\n",
       "</style>\n",
       "<table border=\"1\" class=\"dataframe\">\n",
       "  <thead>\n",
       "    <tr style=\"text-align: right;\">\n",
       "      <th></th>\n",
       "      <th>count</th>\n",
       "      <th>mean</th>\n",
       "      <th>std</th>\n",
       "      <th>min</th>\n",
       "      <th>25%</th>\n",
       "      <th>50%</th>\n",
       "      <th>75%</th>\n",
       "      <th>max</th>\n",
       "    </tr>\n",
       "    <tr>\n",
       "      <th>lifecycle</th>\n",
       "      <th></th>\n",
       "      <th></th>\n",
       "      <th></th>\n",
       "      <th></th>\n",
       "      <th></th>\n",
       "      <th></th>\n",
       "      <th></th>\n",
       "      <th></th>\n",
       "    </tr>\n",
       "  </thead>\n",
       "  <tbody>\n",
       "    <tr>\n",
       "      <th>A</th>\n",
       "      <td>3542.0</td>\n",
       "      <td>433.823171</td>\n",
       "      <td>1902.496280</td>\n",
       "      <td>0.02</td>\n",
       "      <td>71.93</td>\n",
       "      <td>170.945</td>\n",
       "      <td>483.8025</td>\n",
       "      <td>103466.10</td>\n",
       "    </tr>\n",
       "    <tr>\n",
       "      <th>B</th>\n",
       "      <td>5709.0</td>\n",
       "      <td>381.348012</td>\n",
       "      <td>605.828160</td>\n",
       "      <td>0.10</td>\n",
       "      <td>72.99</td>\n",
       "      <td>179.980</td>\n",
       "      <td>474.9600</td>\n",
       "      <td>21068.17</td>\n",
       "    </tr>\n",
       "    <tr>\n",
       "      <th>C</th>\n",
       "      <td>20201.0</td>\n",
       "      <td>396.844800</td>\n",
       "      <td>778.374439</td>\n",
       "      <td>0.02</td>\n",
       "      <td>74.99</td>\n",
       "      <td>174.980</td>\n",
       "      <td>513.9600</td>\n",
       "      <td>62100.00</td>\n",
       "    </tr>\n",
       "  </tbody>\n",
       "</table>\n",
       "</div>"
      ],
      "text/plain": [
       "             count        mean          std   min    25%      50%       75%  \\\n",
       "lifecycle                                                                     \n",
       "A           3542.0  433.823171  1902.496280  0.02  71.93  170.945  483.8025   \n",
       "B           5709.0  381.348012   605.828160  0.10  72.99  179.980  474.9600   \n",
       "C          20201.0  396.844800   778.374439  0.02  74.99  174.980  513.9600   \n",
       "\n",
       "                 max  \n",
       "lifecycle             \n",
       "A          103466.10  \n",
       "B           21068.17  \n",
       "C           62100.00  "
      ]
     },
     "execution_count": 17,
     "metadata": {},
     "output_type": "execute_result"
    }
   ],
   "source": [
    "#what is relationship between different lifecycles and purchasing amount \n",
    "red.groupby(red['lifecycle'])['purchasing_amount'].describe()\n",
    "#red['lifecycle'].groupby(red['purchasing_amount']).describe()"
   ]
  },
  {
   "cell_type": "code",
   "execution_count": 18,
   "metadata": {},
   "outputs": [
    {
     "data": {
      "text/plain": [
       "count     29452\n",
       "unique        3\n",
       "top           C\n",
       "freq      20201\n",
       "Name: lifecycle, dtype: object"
      ]
     },
     "execution_count": 18,
     "metadata": {},
     "output_type": "execute_result"
    }
   ],
   "source": [
    "red['lifecycle'].describe()"
   ]
  },
  {
   "cell_type": "code",
   "execution_count": 19,
   "metadata": {
    "scrolled": true
   },
   "outputs": [
    {
     "data": {
      "text/plain": [
       "<AxesSubplot:xlabel='lifecycle', ylabel='count'>"
      ]
     },
     "execution_count": 19,
     "metadata": {},
     "output_type": "execute_result"
    },
    {
     "data": {
      "image/png": "[encoded data removed]",
      "text/plain": [
       "<Figure size 432x288 with 1 Axes>"
      ]
     },
     "metadata": {
      "needs_background": "light"
     },
     "output_type": "display_data"
    }
   ],
   "source": [
    "# count different lifecycle\n",
    "sns.countplot(x = 'lifecycle', data = red, order = red['lifecycle'].value_counts().index)"
   ]
  },
  {
   "cell_type": "code",
   "execution_count": 20,
   "metadata": {},
   "outputs": [
    {
     "data": {
      "text/plain": [
       "<AxesSubplot:xlabel='lifecycle', ylabel='purchasing_amount'>"
      ]
     },
     "execution_count": 20,
     "metadata": {},
     "output_type": "execute_result"
    },
    {
     "data": {
      "image/png": "[encoded data removed]",
      "text/plain": [
       "<Figure size 432x288 with 1 Axes>"
      ]
     },
     "metadata": {
      "needs_background": "light"
     },
     "output_type": "display_data"
    }
   ],
   "source": [
    "# lifecycle A,B,C total purchasing amount \n",
    "sns.barplot(x = 'lifecycle', y = 'purchasing_amount', data = red)"
   ]
  },
  {
   "cell_type": "code",
   "execution_count": 21,
   "metadata": {
    "scrolled": true
   },
   "outputs": [
    {
     "data": {
      "text/plain": [
       "<AxesSubplot:xlabel='lifecycle', ylabel='purchasing_amount'>"
      ]
     },
     "execution_count": 21,
     "metadata": {},
     "output_type": "execute_result"
    },
    {
     "data": {
      "image/png": "[encoded data removed]",
      "text/plain": [
       "<Figure size 432x288 with 1 Axes>"
      ]
     },
     "metadata": {
      "needs_background": "light"
     },
     "output_type": "display_data"
    }
   ],
   "source": [
    "\n",
    "sns.barplot(x = 'lifecycle', y = 'purchasing_amount', data = red, order = red['lifecycle'].value_counts().index, estimator = sum)"
   ]
  },
  {
   "cell_type": "code",
   "execution_count": 22,
   "metadata": {},
   "outputs": [
    {
     "data": {
      "text/plain": [
       "count     29452\n",
       "unique        3\n",
       "top           C\n",
       "freq      20201\n",
       "Name: lifecycle, dtype: object"
      ]
     },
     "execution_count": 22,
     "metadata": {},
     "output_type": "execute_result"
    }
   ],
   "source": [
    "red['lifecycle'].describe()"
   ]
  },
  {
   "cell_type": "markdown",
   "metadata": {},
   "source": [
    "Conclusion : \n",
    "\n",
    "- lifecycle C, in which the users registered within 2 years are the most. \n",
    "\n",
    "- lifecycle A, in which the users registered within 6 months, has most average purchasing amount, reachs 433.8, second one is lifecylce C, which is registered within 2 years, reaches 396.8, the least is lifecycle B, which is registered within 1 year, reaches 381.3.\n",
    "- lifecycle C has most puchasing amount in total, second one is lifecylce B, the last one is lifecycle A. \n",
    "\n",
    "- most of total purchasing amount is created by lifecycle C. \n"
   ]
  },
  {
   "cell_type": "code",
   "execution_count": 23,
   "metadata": {},
   "outputs": [
    {
     "data": {
      "text/html": [
       "<div>\n",
       "<style scoped>\n",
       "    .dataframe tbody tr th:only-of-type {\n",
       "        vertical-align: middle;\n",
       "    }\n",
       "\n",
       "    .dataframe tbody tr th {\n",
       "        vertical-align: top;\n",
       "    }\n",
       "\n",
       "    .dataframe thead th {\n",
       "        text-align: right;\n",
       "    }\n",
       "</style>\n",
       "<table border=\"1\" class=\"dataframe\">\n",
       "  <thead>\n",
       "    <tr style=\"text-align: right;\">\n",
       "      <th></th>\n",
       "      <th>count</th>\n",
       "      <th>mean</th>\n",
       "      <th>std</th>\n",
       "      <th>min</th>\n",
       "      <th>25%</th>\n",
       "      <th>50%</th>\n",
       "      <th>75%</th>\n",
       "      <th>max</th>\n",
       "    </tr>\n",
       "    <tr>\n",
       "      <th>gender</th>\n",
       "      <th></th>\n",
       "      <th></th>\n",
       "      <th></th>\n",
       "      <th></th>\n",
       "      <th></th>\n",
       "      <th></th>\n",
       "      <th></th>\n",
       "      <th></th>\n",
       "    </tr>\n",
       "  </thead>\n",
       "  <tbody>\n",
       "    <tr>\n",
       "      <th>0.0</th>\n",
       "      <td>873.0</td>\n",
       "      <td>316.346802</td>\n",
       "      <td>566.606482</td>\n",
       "      <td>4.99</td>\n",
       "      <td>69.99</td>\n",
       "      <td>139.98</td>\n",
       "      <td>355.97000</td>\n",
       "      <td>11169.72</td>\n",
       "    </tr>\n",
       "    <tr>\n",
       "      <th>1.0</th>\n",
       "      <td>16850.0</td>\n",
       "      <td>387.972592</td>\n",
       "      <td>655.523780</td>\n",
       "      <td>0.02</td>\n",
       "      <td>73.16</td>\n",
       "      <td>175.98</td>\n",
       "      <td>494.20575</td>\n",
       "      <td>29080.80</td>\n",
       "    </tr>\n",
       "    <tr>\n",
       "      <th>unknown</th>\n",
       "      <td>11729.0</td>\n",
       "      <td>419.206270</td>\n",
       "      <td>1293.523770</td>\n",
       "      <td>0.02</td>\n",
       "      <td>75.96</td>\n",
       "      <td>179.00</td>\n",
       "      <td>528.99000</td>\n",
       "      <td>103466.10</td>\n",
       "    </tr>\n",
       "  </tbody>\n",
       "</table>\n",
       "</div>"
      ],
      "text/plain": [
       "           count        mean          std   min    25%     50%        75%  \\\n",
       "gender                                                                      \n",
       "0.0        873.0  316.346802   566.606482  4.99  69.99  139.98  355.97000   \n",
       "1.0      16850.0  387.972592   655.523780  0.02  73.16  175.98  494.20575   \n",
       "unknown  11729.0  419.206270  1293.523770  0.02  75.96  179.00  528.99000   \n",
       "\n",
       "               max  \n",
       "gender              \n",
       "0.0       11169.72  \n",
       "1.0       29080.80  \n",
       "unknown  103466.10  "
      ]
     },
     "execution_count": 23,
     "metadata": {},
     "output_type": "execute_result"
    }
   ],
   "source": [
    "# relationship between gender and purchasing amount\n",
    "red.groupby(red['gender'])['purchasing_amount'].describe()"
   ]
  },
  {
   "cell_type": "code",
   "execution_count": 24,
   "metadata": {},
   "outputs": [
    {
     "data": {
      "text/plain": [
       "<AxesSubplot:xlabel='gender', ylabel='count'>"
      ]
     },
     "execution_count": 24,
     "metadata": {},
     "output_type": "execute_result"
    },
    {
     "data": {
      "image/png": "[encoded data removed]",
      "text/plain": [
       "<Figure size 432x288 with 1 Axes>"
      ]
     },
     "metadata": {
      "needs_background": "light"
     },
     "output_type": "display_data"
    }
   ],
   "source": [
    "#count different gender \n",
    "sns.countplot(x = 'gender', data = red, order = red['gender'].value_counts().index)"
   ]
  },
  {
   "cell_type": "code",
   "execution_count": 25,
   "metadata": {},
   "outputs": [
    {
     "data": {
      "text/plain": [
       "<AxesSubplot:xlabel='gender', ylabel='purchasing_amount'>"
      ]
     },
     "execution_count": 25,
     "metadata": {},
     "output_type": "execute_result"
    },
    {
     "data": {
      "image/png": "[encoded data removed]",
      "text/plain": [
       "<Figure size 432x288 with 1 Axes>"
      ]
     },
     "metadata": {
      "needs_background": "light"
     },
     "output_type": "display_data"
    }
   ],
   "source": [
    "# different gender average puchasing amount \n",
    "# barplot() by default shows average value, can change manually\n",
    "sns.barplot(x = 'gender', y = 'purchasing_amount', data = red)"
   ]
  },
  {
   "cell_type": "code",
   "execution_count": 26,
   "metadata": {},
   "outputs": [
    {
     "data": {
      "text/plain": [
       "<AxesSubplot:xlabel='gender', ylabel='purchasing_amount'>"
      ]
     },
     "execution_count": 26,
     "metadata": {},
     "output_type": "execute_result"
    },
    {
     "data": {
      "image/png": "[encoded data removed]",
      "text/plain": [
       "<Figure size 432x288 with 1 Axes>"
      ]
     },
     "metadata": {
      "needs_background": "light"
     },
     "output_type": "display_data"
    }
   ],
   "source": [
    "#sum of purchasing amount of different gender\n",
    "sns.barplot(x = 'gender', y = 'purchasing_amount', data = red, estimator = sum)"
   ]
  },
  {
   "cell_type": "markdown",
   "metadata": {},
   "source": [
    "Conclusion: \n",
    "- There are more male users than female users.\n",
    "- Purchasing amount by male users are little higher than female users. \n",
    "\n",
    "- Male users contribute most part of total puchasing amount. "
   ]
  },
  {
   "cell_type": "code",
   "execution_count": 27,
   "metadata": {},
   "outputs": [
    {
     "data": {
      "text/html": [
       "<div>\n",
       "<style scoped>\n",
       "    .dataframe tbody tr th:only-of-type {\n",
       "        vertical-align: middle;\n",
       "    }\n",
       "\n",
       "    .dataframe tbody tr th {\n",
       "        vertical-align: top;\n",
       "    }\n",
       "\n",
       "    .dataframe thead th {\n",
       "        text-align: right;\n",
       "    }\n",
       "</style>\n",
       "<table border=\"1\" class=\"dataframe\">\n",
       "  <thead>\n",
       "    <tr style=\"text-align: right;\">\n",
       "      <th></th>\n",
       "      <th>count</th>\n",
       "      <th>mean</th>\n",
       "      <th>std</th>\n",
       "      <th>min</th>\n",
       "      <th>25%</th>\n",
       "      <th>50%</th>\n",
       "      <th>75%</th>\n",
       "      <th>max</th>\n",
       "    </tr>\n",
       "    <tr>\n",
       "      <th>last_month_engage</th>\n",
       "      <th></th>\n",
       "      <th></th>\n",
       "      <th></th>\n",
       "      <th></th>\n",
       "      <th></th>\n",
       "      <th></th>\n",
       "      <th></th>\n",
       "      <th></th>\n",
       "    </tr>\n",
       "  </thead>\n",
       "  <tbody>\n",
       "    <tr>\n",
       "      <th>0.0</th>\n",
       "      <td>16428.0</td>\n",
       "      <td>369.839618</td>\n",
       "      <td>579.590923</td>\n",
       "      <td>0.02</td>\n",
       "      <td>71.18</td>\n",
       "      <td>160.37</td>\n",
       "      <td>469.98</td>\n",
       "      <td>22214.92</td>\n",
       "    </tr>\n",
       "    <tr>\n",
       "      <th>1.0</th>\n",
       "      <td>1295.0</td>\n",
       "      <td>569.717137</td>\n",
       "      <td>1230.162096</td>\n",
       "      <td>1.00</td>\n",
       "      <td>109.99</td>\n",
       "      <td>299.99</td>\n",
       "      <td>674.08</td>\n",
       "      <td>29080.80</td>\n",
       "    </tr>\n",
       "    <tr>\n",
       "      <th>unknown</th>\n",
       "      <td>11729.0</td>\n",
       "      <td>419.206270</td>\n",
       "      <td>1293.523770</td>\n",
       "      <td>0.02</td>\n",
       "      <td>75.96</td>\n",
       "      <td>179.00</td>\n",
       "      <td>528.99</td>\n",
       "      <td>103466.10</td>\n",
       "    </tr>\n",
       "  </tbody>\n",
       "</table>\n",
       "</div>"
      ],
      "text/plain": [
       "                     count        mean          std   min     25%     50%  \\\n",
       "last_month_engage                                                           \n",
       "0.0                16428.0  369.839618   579.590923  0.02   71.18  160.37   \n",
       "1.0                 1295.0  569.717137  1230.162096  1.00  109.99  299.99   \n",
       "unknown            11729.0  419.206270  1293.523770  0.02   75.96  179.00   \n",
       "\n",
       "                      75%        max  \n",
       "last_month_engage                     \n",
       "0.0                469.98   22214.92  \n",
       "1.0                674.08   29080.80  \n",
       "unknown            528.99  103466.10  "
      ]
     },
     "execution_count": 27,
     "metadata": {},
     "output_type": "execute_result"
    }
   ],
   "source": [
    "# relationship between users' last month puchasing and purchasing amount\n",
    "red.groupby(['last_month_engage'])['purchasing_amount'].describe()"
   ]
  },
  {
   "cell_type": "code",
   "execution_count": 28,
   "metadata": {},
   "outputs": [
    {
     "data": {
      "text/plain": [
       "<AxesSubplot:xlabel='last_month_engage', ylabel='count'>"
      ]
     },
     "execution_count": 28,
     "metadata": {},
     "output_type": "execute_result"
    },
    {
     "data": {
      "image/png": "[encoded data removed]",
      "text/plain": [
       "<Figure size 432x288 with 1 Axes>"
      ]
     },
     "metadata": {
      "needs_background": "light"
     },
     "output_type": "display_data"
    }
   ],
   "source": [
    "#count different last month engagement \n",
    "sns.countplot(x = 'last_month_engage', data = red, order = red['last_month_engage'].value_counts().index)"
   ]
  },
  {
   "cell_type": "code",
   "execution_count": 29,
   "metadata": {},
   "outputs": [
    {
     "data": {
      "text/plain": [
       "<AxesSubplot:xlabel='last_month_engage', ylabel='purchasing_amount'>"
      ]
     },
     "execution_count": 29,
     "metadata": {},
     "output_type": "execute_result"
    },
    {
     "data": {
      "image/png": "[encoded data removed]",
      "text/plain": [
       "<Figure size 432x288 with 1 Axes>"
      ]
     },
     "metadata": {
      "needs_background": "light"
     },
     "output_type": "display_data"
    }
   ],
   "source": [
    "# relations with last month engagement and its average purchasing amount \n",
    "sns.barplot(x = 'last_month_engage', y = 'purchasing_amount', data = red)"
   ]
  },
  {
   "cell_type": "code",
   "execution_count": 30,
   "metadata": {},
   "outputs": [
    {
     "data": {
      "text/plain": [
       "<AxesSubplot:xlabel='last_month_engage', ylabel='purchasing_amount'>"
      ]
     },
     "execution_count": 30,
     "metadata": {},
     "output_type": "execute_result"
    },
    {
     "data": {
      "image/png": "[encoded data removed]",
      "text/plain": [
       "<Figure size 432x288 with 1 Axes>"
      ]
     },
     "metadata": {
      "needs_background": "light"
     },
     "output_type": "display_data"
    }
   ],
   "source": [
    "# relations with last month engagement and total puchasing amount \n",
    "sns.barplot(x = 'last_month_engage', y = 'purchasing_amount', data = red, estimator = sum)"
   ]
  },
  {
   "cell_type": "code",
   "execution_count": 31,
   "metadata": {},
   "outputs": [
    {
     "data": {
      "text/plain": [
       "count     29452.0\n",
       "unique        3.0\n",
       "top           0.0\n",
       "freq      16428.0\n",
       "Name: last_month_engage, dtype: float64"
      ]
     },
     "execution_count": 31,
     "metadata": {},
     "output_type": "execute_result"
    }
   ],
   "source": [
    "red['last_month_engage'].describe()"
   ]
  },
  {
   "cell_type": "markdown",
   "metadata": {},
   "source": [
    "Conclusion: \n",
    "- Most users do not make orders during the last month.\n",
    "- The average of purchasing amount among users that have engaged during last month is larger. The purchasing amount reaches 569.7 while the amount of users that do not engaged is 369.8\n",
    "- Most of total purchasing amount is contributed by the users that do not engaged in the past month. \n"
   ]
  },
  {
   "cell_type": "code",
   "execution_count": 32,
   "metadata": {},
   "outputs": [
    {
     "data": {
      "text/plain": [
       "count    29452.000000\n",
       "mean         2.286059\n",
       "std          3.538219\n",
       "min          0.000000\n",
       "25%          0.000000\n",
       "50%          0.000000\n",
       "75%          3.000000\n",
       "max         10.000000\n",
       "Name: 3rd_party_store, dtype: float64"
      ]
     },
     "execution_count": 32,
     "metadata": {},
     "output_type": "execute_result"
    }
   ],
   "source": [
    "red['3rd_party_store'].describe()"
   ]
  },
  {
   "cell_type": "code",
   "execution_count": 33,
   "metadata": {},
   "outputs": [
    {
     "data": {
      "text/plain": [
       "<AxesSubplot:xlabel='3rd_party_store', ylabel='count'>"
      ]
     },
     "execution_count": 33,
     "metadata": {},
     "output_type": "execute_result"
    },
    {
     "data": {
      "image/png": "[encoded data removed]",
      "text/plain": [
       "<Figure size 432x288 with 1 Axes>"
      ]
     },
     "metadata": {
      "needs_background": "light"
     },
     "output_type": "display_data"
    }
   ],
   "source": [
    "# count different categories in the third party stores \n",
    "sns.countplot(x = '3rd_party_store', data = red, order = red['3rd_party_store'].value_counts().index)"
   ]
  },
  {
   "cell_type": "code",
   "execution_count": 34,
   "metadata": {},
   "outputs": [
    {
     "data": {
      "text/plain": [
       "<AxesSubplot:xlabel='3rd_party_store', ylabel='purchasing_amount'>"
      ]
     },
     "execution_count": 34,
     "metadata": {},
     "output_type": "execute_result"
    },
    {
     "data": {
      "image/png": "[encoded data removed]",
      "text/plain": [
       "<Figure size 432x288 with 1 Axes>"
      ]
     },
     "metadata": {
      "needs_background": "light"
     },
     "output_type": "display_data"
    }
   ],
   "source": [
    "# relations between users purchase via third party stores and its average purchasing amount\n",
    "sns.barplot(x = '3rd_party_store', y = 'purchasing_amount', data = red)"
   ]
  },
  {
   "cell_type": "code",
   "execution_count": 35,
   "metadata": {},
   "outputs": [
    {
     "data": {
      "text/plain": [
       "<AxesSubplot:xlabel='3rd_party_store', ylabel='purchasing_amount'>"
      ]
     },
     "execution_count": 35,
     "metadata": {},
     "output_type": "execute_result"
    },
    {
     "data": {
      "image/png": "[encoded data removed]",
      "text/plain": [
       "<Figure size 432x288 with 1 Axes>"
      ]
     },
     "metadata": {
      "needs_background": "light"
     },
     "output_type": "display_data"
    }
   ],
   "source": [
    "# # relations between users purchase via third party stores and its total purchasing amount\n",
    "sns.barplot(x = '3rd_party_store', y = 'purchasing_amount', data = red, estimator = sum)"
   ]
  },
  {
   "cell_type": "markdown",
   "metadata": {},
   "source": [
    "Conclusion: \n",
    "- Users who have never purchased in a third-party app are the most, followed by those who have purchased 10 times in a third-party stores. \n",
    "- The average sales of customers who have never made a purchase in a third-party stores is the highest; the average sales of customers who have made 1-5 purchases in a third-party stores similar; the average of customers who have made 6-10 purchases in a third-party stores Sales are similar, but its purchasing amount is greater than the average sales of 1-5 purchases on third-party apps. \n",
    "- Most of the total sales are contributed by users who have never purchased in a third-party stores, followed by users who have purchased 10 times in a third-party store. Users who have made 1-5 purchases in a third-party app, with the least contribution Customers who made 6-10 purchases in a third-party stores.\n"
   ]
  },
  {
   "cell_type": "markdown",
   "metadata": {},
   "source": [
    "# 3 Visualization "
   ]
  },
  {
   "cell_type": "code",
   "execution_count": 36,
   "metadata": {},
   "outputs": [],
   "source": [
    "#gender, last_month_engage, lifecycle are categorical variables, use encode \n",
    "red = pd.get_dummies(red)"
   ]
  },
  {
   "cell_type": "code",
   "execution_count": 37,
   "metadata": {
    "tags": []
   },
   "outputs": [
    {
     "name": "stdout",
     "output_type": "stream",
     "text": [
      "<class 'pandas.core.frame.DataFrame'>\n",
      "RangeIndex: 29452 entries, 0 to 29451\n",
      "Data columns (total 14 columns):\n",
      " #   Column                      Non-Null Count  Dtype  \n",
      "---  ------                      --------------  -----  \n",
      " 0   purchasing_amount           29452 non-null  float64\n",
      " 1   age                         29452 non-null  float64\n",
      " 2   days_since_last_order       29452 non-null  float64\n",
      " 3   comulative_purchase_amount  29452 non-null  float64\n",
      " 4   3rd_party_store             29452 non-null  int64  \n",
      " 5   gender_0.0                  29452 non-null  uint8  \n",
      " 6   gender_1.0                  29452 non-null  uint8  \n",
      " 7   gender_unknown              29452 non-null  uint8  \n",
      " 8   last_month_engage_0.0       29452 non-null  uint8  \n",
      " 9   last_month_engage_1.0       29452 non-null  uint8  \n",
      " 10  last_month_engage_unknown   29452 non-null  uint8  \n",
      " 11  lifecycle_A                 29452 non-null  uint8  \n",
      " 12  lifecycle_B                 29452 non-null  uint8  \n",
      " 13  lifecycle_C                 29452 non-null  uint8  \n",
      "dtypes: float64(4), int64(1), uint8(9)\n",
      "memory usage: 1.4 MB\n"
     ]
    }
   ],
   "source": [
    "red.info()"
   ]
  },
  {
   "cell_type": "code",
   "execution_count": 38,
   "metadata": {},
   "outputs": [
    {
     "data": {
      "text/plain": [
       "<AxesSubplot:>"
      ]
     },
     "execution_count": 38,
     "metadata": {},
     "output_type": "execute_result"
    },
    {
     "data": {
      "image/png": "[encoded data removed]",
      "text/plain": [
       "<Figure size 720x720 with 2 Axes>"
      ]
     },
     "metadata": {
      "needs_background": "light"
     },
     "output_type": "display_data"
    }
   ],
   "source": [
    "#make heatmap\n",
    "fig, ax = plt.subplots(figsize=(10,10))\n",
    "sns.heatmap(red.corr(),vmax=1, center=0,square=True,cmap = 'GnBu')"
   ]
  },
  {
   "cell_type": "markdown",
   "metadata": {},
   "source": [
    "Conclusion: \n",
    "- There exist strong pairwise positive relations between lifecycle C and days since last order and third party stores.\n",
    "- There exist strong pairwise positive relations between gender_1.0 and last month engage 0.\n",
    "- There is no clear relations between puchasing amount and other variables. "
   ]
  },
  {
   "cell_type": "code",
   "execution_count": 39,
   "metadata": {},
   "outputs": [
    {
     "data": {
      "text/html": [
       "<div>\n",
       "<style scoped>\n",
       "    .dataframe tbody tr th:only-of-type {\n",
       "        vertical-align: middle;\n",
       "    }\n",
       "\n",
       "    .dataframe tbody tr th {\n",
       "        vertical-align: top;\n",
       "    }\n",
       "\n",
       "    .dataframe thead th {\n",
       "        text-align: right;\n",
       "    }\n",
       "</style>\n",
       "<table border=\"1\" class=\"dataframe\">\n",
       "  <thead>\n",
       "    <tr style=\"text-align: right;\">\n",
       "      <th></th>\n",
       "      <th>purchasing_amount</th>\n",
       "    </tr>\n",
       "  </thead>\n",
       "  <tbody>\n",
       "    <tr>\n",
       "      <th>purchasing_amount</th>\n",
       "      <td>1.000000</td>\n",
       "    </tr>\n",
       "    <tr>\n",
       "      <th>comulative_purchase_amount</th>\n",
       "      <td>0.168540</td>\n",
       "    </tr>\n",
       "    <tr>\n",
       "      <th>last_month_engage_1.0</th>\n",
       "      <td>0.038287</td>\n",
       "    </tr>\n",
       "    <tr>\n",
       "      <th>days_since_last_order</th>\n",
       "      <td>0.036654</td>\n",
       "    </tr>\n",
       "    <tr>\n",
       "      <th>gender_unknown</th>\n",
       "      <td>0.017722</td>\n",
       "    </tr>\n",
       "    <tr>\n",
       "      <th>last_month_engage_unknown</th>\n",
       "      <td>0.017722</td>\n",
       "    </tr>\n",
       "    <tr>\n",
       "      <th>lifecycle_A</th>\n",
       "      <td>0.013683</td>\n",
       "    </tr>\n",
       "    <tr>\n",
       "      <th>lifecycle_C</th>\n",
       "      <td>-0.002221</td>\n",
       "    </tr>\n",
       "    <tr>\n",
       "      <th>lifecycle_B</th>\n",
       "      <td>-0.008651</td>\n",
       "    </tr>\n",
       "    <tr>\n",
       "      <th>gender_1.0</th>\n",
       "      <td>-0.012422</td>\n",
       "    </tr>\n",
       "    <tr>\n",
       "      <th>gender_0.0</th>\n",
       "      <td>-0.014914</td>\n",
       "    </tr>\n",
       "    <tr>\n",
       "      <th>3rd_party_store</th>\n",
       "      <td>-0.026398</td>\n",
       "    </tr>\n",
       "    <tr>\n",
       "      <th>last_month_engage_0.0</th>\n",
       "      <td>-0.033274</td>\n",
       "    </tr>\n",
       "    <tr>\n",
       "      <th>age</th>\n",
       "      <td>-0.035801</td>\n",
       "    </tr>\n",
       "  </tbody>\n",
       "</table>\n",
       "</div>"
      ],
      "text/plain": [
       "                            purchasing_amount\n",
       "purchasing_amount                    1.000000\n",
       "comulative_purchase_amount           0.168540\n",
       "last_month_engage_1.0                0.038287\n",
       "days_since_last_order                0.036654\n",
       "gender_unknown                       0.017722\n",
       "last_month_engage_unknown            0.017722\n",
       "lifecycle_A                          0.013683\n",
       "lifecycle_C                         -0.002221\n",
       "lifecycle_B                         -0.008651\n",
       "gender_1.0                          -0.012422\n",
       "gender_0.0                          -0.014914\n",
       "3rd_party_store                     -0.026398\n",
       "last_month_engage_0.0               -0.033274\n",
       "age                                 -0.035801"
      ]
     },
     "execution_count": 39,
     "metadata": {},
     "output_type": "execute_result"
    }
   ],
   "source": [
    "# check relations between all variables and purchasing amount, descending order\n",
    "red.corr()[['purchasing_amount']].sort_values('purchasing_amount', ascending = False)"
   ]
  },
  {
   "cell_type": "code",
   "execution_count": 40,
   "metadata": {},
   "outputs": [
    {
     "name": "stderr",
     "output_type": "stream",
     "text": [
      "/Users/zhijiewei/opt/anaconda3/lib/python3.8/site-packages/seaborn/_decorators.py:36: FutureWarning: Pass the following variables as keyword args: x, y, data. From version 0.12, the only valid positional argument will be `data`, and passing other arguments without an explicit keyword will result in an error or misinterpretation.\n",
      "  warnings.warn(\n"
     ]
    },
    {
     "data": {
      "text/plain": [
       "<AxesSubplot:xlabel='days_since_last_order', ylabel='purchasing_amount'>"
      ]
     },
     "execution_count": 40,
     "metadata": {},
     "output_type": "execute_result"
    },
    {
     "data": {
      "image/png": "[encoded data removed]",
      "text/plain": [
       "<Figure size 432x288 with 1 Axes>"
      ]
     },
     "metadata": {
      "needs_background": "light"
     },
     "output_type": "display_data"
    }
   ],
   "source": [
    "# draw regression plot between days_since_last_order and purchasing amount \n",
    "sns.regplot('days_since_last_order','purchasing_amount',red)"
   ]
  },
  {
   "cell_type": "code",
   "execution_count": 41,
   "metadata": {},
   "outputs": [
    {
     "name": "stderr",
     "output_type": "stream",
     "text": [
      "/Users/zhijiewei/opt/anaconda3/lib/python3.8/site-packages/seaborn/_decorators.py:36: FutureWarning: Pass the following variables as keyword args: x, y, data. From version 0.12, the only valid positional argument will be `data`, and passing other arguments without an explicit keyword will result in an error or misinterpretation.\n",
      "  warnings.warn(\n"
     ]
    },
    {
     "data": {
      "text/plain": [
       "<AxesSubplot:xlabel='comulative_purchase_amount', ylabel='purchasing_amount'>"
      ]
     },
     "execution_count": 41,
     "metadata": {},
     "output_type": "execute_result"
    },
    {
     "data": {
      "image/png": "[encoded data removed]",
      "text/plain": [
       "<Figure size 432x288 with 1 Axes>"
      ]
     },
     "metadata": {
      "needs_background": "light"
     },
     "output_type": "display_data"
    }
   ],
   "source": [
    "# draw regression plot between comulative purchase amount and purchasing amount \n",
    "sns.regplot('comulative_purchase_amount','purchasing_amount',red)"
   ]
  },
  {
   "cell_type": "code",
   "execution_count": 42,
   "metadata": {},
   "outputs": [
    {
     "name": "stderr",
     "output_type": "stream",
     "text": [
      "/Users/zhijiewei/opt/anaconda3/lib/python3.8/site-packages/seaborn/_decorators.py:36: FutureWarning: Pass the following variables as keyword args: x, y, data. From version 0.12, the only valid positional argument will be `data`, and passing other arguments without an explicit keyword will result in an error or misinterpretation.\n",
      "  warnings.warn(\n"
     ]
    },
    {
     "data": {
      "text/plain": [
       "<AxesSubplot:xlabel='last_month_engage_1.0', ylabel='purchasing_amount'>"
      ]
     },
     "execution_count": 42,
     "metadata": {},
     "output_type": "execute_result"
    },
    {
     "data": {
      "image/png": "[encoded data removed]",
      "text/plain": [
       "<Figure size 432x288 with 1 Axes>"
      ]
     },
     "metadata": {
      "needs_background": "light"
     },
     "output_type": "display_data"
    }
   ],
   "source": [
    "#draw regression plot between last month engage 1.0 and purchasing amount \n",
    "sns.regplot('last_month_engage_1.0','purchasing_amount',red)"
   ]
  },
  {
   "cell_type": "code",
   "execution_count": 43,
   "metadata": {},
   "outputs": [
    {
     "name": "stderr",
     "output_type": "stream",
     "text": [
      "/Users/zhijiewei/opt/anaconda3/lib/python3.8/site-packages/seaborn/_decorators.py:36: FutureWarning: Pass the following variables as keyword args: x, y, data. From version 0.12, the only valid positional argument will be `data`, and passing other arguments without an explicit keyword will result in an error or misinterpretation.\n",
      "  warnings.warn(\n"
     ]
    },
    {
     "data": {
      "text/plain": [
       "<AxesSubplot:xlabel='3rd_party_store', ylabel='purchasing_amount'>"
      ]
     },
     "execution_count": 43,
     "metadata": {},
     "output_type": "execute_result"
    },
    {
     "data": {
      "image/png": "[encoded data removed]",
      "text/plain": [
       "<Figure size 432x288 with 1 Axes>"
      ]
     },
     "metadata": {
      "needs_background": "light"
     },
     "output_type": "display_data"
    }
   ],
   "source": [
    "#draw regression plot between third party store and purchasing amount \n",
    "sns.regplot('3rd_party_store','purchasing_amount',red)"
   ]
  },
  {
   "cell_type": "code",
   "execution_count": 44,
   "metadata": {},
   "outputs": [
    {
     "name": "stderr",
     "output_type": "stream",
     "text": [
      "/Users/zhijiewei/opt/anaconda3/lib/python3.8/site-packages/seaborn/_decorators.py:36: FutureWarning: Pass the following variables as keyword args: x, y, data. From version 0.12, the only valid positional argument will be `data`, and passing other arguments without an explicit keyword will result in an error or misinterpretation.\n",
      "  warnings.warn(\n"
     ]
    },
    {
     "data": {
      "text/plain": [
       "<AxesSubplot:xlabel='age', ylabel='purchasing_amount'>"
      ]
     },
     "execution_count": 44,
     "metadata": {},
     "output_type": "execute_result"
    },
    {
     "data": {
      "image/png": "[encoded data removed]",
      "text/plain": [
       "<Figure size 432x288 with 1 Axes>"
      ]
     },
     "metadata": {
      "needs_background": "light"
     },
     "output_type": "display_data"
    }
   ],
   "source": [
    "#draw regression plot between age and purchasing amount \n",
    "sns.regplot('age','purchasing_amount',red)"
   ]
  },
  {
   "cell_type": "code",
   "execution_count": 45,
   "metadata": {},
   "outputs": [
    {
     "name": "stderr",
     "output_type": "stream",
     "text": [
      "/Users/zhijiewei/opt/anaconda3/lib/python3.8/site-packages/seaborn/_decorators.py:36: FutureWarning: Pass the following variables as keyword args: x, y, data. From version 0.12, the only valid positional argument will be `data`, and passing other arguments without an explicit keyword will result in an error or misinterpretation.\n",
      "  warnings.warn(\n"
     ]
    },
    {
     "data": {
      "text/plain": [
       "<AxesSubplot:xlabel='lifecycle_C', ylabel='purchasing_amount'>"
      ]
     },
     "execution_count": 45,
     "metadata": {},
     "output_type": "execute_result"
    },
    {
     "data": {
      "image/png": "[encoded data removed]",
      "text/plain": [
       "<Figure size 432x288 with 1 Axes>"
      ]
     },
     "metadata": {
      "needs_background": "light"
     },
     "output_type": "display_data"
    }
   ],
   "source": [
    "#draw regression plot between lifecycle C and purchasing amount \n",
    "sns.regplot('lifecycle_C','purchasing_amount', red)"
   ]
  },
  {
   "cell_type": "markdown",
   "metadata": {},
   "source": [
    "# 4 Regression"
   ]
  },
  {
   "cell_type": "code",
   "execution_count": 46,
   "metadata": {
    "tags": []
   },
   "outputs": [
    {
     "name": "stdout",
     "output_type": "stream",
     "text": [
      "<class 'pandas.core.frame.DataFrame'>\n",
      "RangeIndex: 29452 entries, 0 to 29451\n",
      "Data columns (total 14 columns):\n",
      " #   Column                      Non-Null Count  Dtype  \n",
      "---  ------                      --------------  -----  \n",
      " 0   purchasing_amount           29452 non-null  float64\n",
      " 1   age                         29452 non-null  float64\n",
      " 2   days_since_last_order       29452 non-null  float64\n",
      " 3   comulative_purchase_amount  29452 non-null  float64\n",
      " 4   3rd_party_store             29452 non-null  int64  \n",
      " 5   gender_0.0                  29452 non-null  uint8  \n",
      " 6   gender_1.0                  29452 non-null  uint8  \n",
      " 7   gender_unknown              29452 non-null  uint8  \n",
      " 8   last_month_engage_0.0       29452 non-null  uint8  \n",
      " 9   last_month_engage_1.0       29452 non-null  uint8  \n",
      " 10  last_month_engage_unknown   29452 non-null  uint8  \n",
      " 11  lifecycle_A                 29452 non-null  uint8  \n",
      " 12  lifecycle_B                 29452 non-null  uint8  \n",
      " 13  lifecycle_C                 29452 non-null  uint8  \n",
      "dtypes: float64(4), int64(1), uint8(9)\n",
      "memory usage: 1.4 MB\n"
     ]
    }
   ],
   "source": [
    "red.info()"
   ]
  },
  {
   "cell_type": "markdown",
   "metadata": {},
   "source": [
    "## 4.1 Evaluate model "
   ]
  },
  {
   "cell_type": "code",
   "execution_count": 47,
   "metadata": {},
   "outputs": [
    {
     "data": {
      "text/plain": [
       "array([ 0.06895217, 63.63927387,  7.62191879])"
      ]
     },
     "execution_count": 47,
     "metadata": {},
     "output_type": "execute_result"
    }
   ],
   "source": [
    "#import model \n",
    "from sklearn.linear_model import LinearRegression\n",
    "# create linear regression model \n",
    "model = LinearRegression()\n",
    "# set X and y \n",
    "y = red['purchasing_amount']\n",
    "x = red[['comulative_purchase_amount','last_month_engage_1.0','days_since_last_order']]\n",
    "# fit the model \n",
    "model.fit(x,y)\n",
    "# get coefficient\n",
    "model.coef_"
   ]
  },
  {
   "cell_type": "code",
   "execution_count": 48,
   "metadata": {},
   "outputs": [
    {
     "data": {
      "text/plain": [
       "174.75247985661107"
      ]
     },
     "execution_count": 48,
     "metadata": {},
     "output_type": "execute_result"
    }
   ],
   "source": [
    "# get intercept\n",
    "model.intercept_"
   ]
  },
  {
   "cell_type": "markdown",
   "metadata": {},
   "source": [
    "## 4.2 Model score"
   ]
  },
  {
   "cell_type": "code",
   "execution_count": 49,
   "metadata": {
    "tags": []
   },
   "outputs": [
    {
     "name": "stdout",
     "output_type": "stream",
     "text": [
      "945.1327326407894\n",
      "352.9825670606424\n"
     ]
    }
   ],
   "source": [
    "# score x and y in the model \n",
    "score = model.score(x,y)\n",
    "# prediction\n",
    "predictions = model.predict(x)\n",
    "# compute margin of error\n",
    "error = predictions - y\n",
    "#compute RMSE: Root Mean Square Error, it amplifies the margin of error, and the penalty for the error is heavier\n",
    "rmse = (error**2).mean()**.5\n",
    "# compuste MAE: Mean Absolute Error, Better reflect the actual situation of the predicted value error\n",
    "mae = abs(error).mean()\n",
    "\n",
    "print(rmse)\n",
    "print(mae)"
   ]
  },
  {
   "cell_type": "code",
   "execution_count": 50,
   "metadata": {
    "tags": []
   },
   "outputs": [
    {
     "name": "stdout",
     "output_type": "stream",
     "text": [
      "                            OLS Regression Results                            \n",
      "==============================================================================\n",
      "Dep. Variable:                      y   R-squared:                       0.031\n",
      "Model:                            OLS   Adj. R-squared:                  0.031\n",
      "Method:                 Least Squares   F-statistic:                     316.2\n",
      "Date:                Sat, 09 Oct 2021   Prob (F-statistic):          4.33e-202\n",
      "Time:                        14:53:50   Log-Likelihood:            -2.4358e+05\n",
      "No. Observations:               29452   AIC:                         4.872e+05\n",
      "Df Residuals:                   29448   BIC:                         4.872e+05\n",
      "Df Model:                           3                                         \n",
      "Covariance Type:            nonrobust                                         \n",
      "==============================================================================\n",
      "                 coef    std err          t      P>|t|      [0.025      0.975]\n",
      "------------------------------------------------------------------------------\n",
      "Intercept    174.7525     10.466     16.697      0.000     154.238     195.267\n",
      "x[0]           0.0690      0.002     29.350      0.000       0.064       0.074\n",
      "x[1]          63.6393     27.174      2.342      0.019      10.376     116.902\n",
      "x[2]           7.6219      0.852      8.947      0.000       5.952       9.292\n",
      "==============================================================================\n",
      "Omnibus:                    96676.465   Durbin-Watson:                   1.966\n",
      "Prob(Omnibus):                  0.000   Jarque-Bera (JB):      35170734310.851\n",
      "Skew:                          56.077   Prob(JB):                         0.00\n",
      "Kurtosis:                    5355.339   Cond. No.                     1.65e+04\n",
      "==============================================================================\n",
      "\n",
      "Notes:\n",
      "[1] Standard Errors assume that the covariance matrix of the errors is correctly specified.\n",
      "[2] The condition number is large, 1.65e+04. This might indicate that there are\n",
      "strong multicollinearity or other numerical problems.\n"
     ]
    }
   ],
   "source": [
    "from statsmodels.formula.api import ols\n",
    "# Ordinary Least Square\n",
    "model = ols('y~x', red).fit()\n",
    "print(model.summary())"
   ]
  },
  {
   "cell_type": "markdown",
   "metadata": {},
   "source": [
    "Conclusion: \n",
    "- R-squared is 0.031，Prob is 0\n",
    "- This regression has no significant meaning. \n"
   ]
  },
  {
   "cell_type": "markdown",
   "metadata": {},
   "source": [
    "## 4.2 Model refinement "
   ]
  },
  {
   "cell_type": "code",
   "execution_count": 51,
   "metadata": {},
   "outputs": [
    {
     "data": {
      "text/plain": [
       "LinearRegression()"
      ]
     },
     "execution_count": 51,
     "metadata": {},
     "output_type": "execute_result"
    }
   ],
   "source": [
    "# add one more variable lifecycle_C\n",
    "#import module \n",
    "from sklearn.linear_model import LinearRegression\n",
    "#build a linear regression model \n",
    "model = LinearRegression()\n",
    "# set X and y \n",
    "y = red['purchasing_amount']\n",
    "x = red[['comulative_purchase_amount','last_month_engage_1.0','days_since_last_order','lifecycle_C']]\n",
    "#fit\n",
    "model.fit(x,y)"
   ]
  },
  {
   "cell_type": "code",
   "execution_count": 52,
   "metadata": {
    "scrolled": true,
    "tags": []
   },
   "outputs": [
    {
     "name": "stdout",
     "output_type": "stream",
     "text": [
      "945.0664751321252\n",
      "352.6020358581729\n"
     ]
    }
   ],
   "source": [
    "#score x and y \n",
    "score = model.score(x,y)\n",
    "\n",
    "predictions = model.predict(x)\n",
    "\n",
    "error = predictions - y\n",
    "\n",
    "rmse = (error**2).mean()**.5\n",
    "\n",
    "mae = abs(error).mean()\n",
    "\n",
    "print(rmse)\n",
    "print(mae)"
   ]
  },
  {
   "cell_type": "code",
   "execution_count": 53,
   "metadata": {
    "tags": []
   },
   "outputs": [
    {
     "name": "stdout",
     "output_type": "stream",
     "text": [
      "                            OLS Regression Results                            \n",
      "==============================================================================\n",
      "Dep. Variable:                      y   R-squared:                       0.031\n",
      "Model:                            OLS   Adj. R-squared:                  0.031\n",
      "Method:                 Least Squares   F-statistic:                     238.2\n",
      "Date:                Sat, 09 Oct 2021   Prob (F-statistic):          1.07e-201\n",
      "Time:                        14:53:50   Log-Likelihood:            -2.4357e+05\n",
      "No. Observations:               29452   AIC:                         4.872e+05\n",
      "Df Residuals:                   29447   BIC:                         4.872e+05\n",
      "Df Model:                           4                                         \n",
      "Covariance Type:            nonrobust                                         \n",
      "==============================================================================\n",
      "                 coef    std err          t      P>|t|      [0.025      0.975]\n",
      "------------------------------------------------------------------------------\n",
      "Intercept    186.8375     12.038     15.521      0.000     163.243     210.432\n",
      "x[0]           0.0684      0.002     28.933      0.000       0.064       0.073\n",
      "x[1]          62.6521     27.177      2.305      0.021       9.383     115.921\n",
      "x[2]           8.9856      1.084      8.286      0.000       6.860      11.111\n",
      "x[3]         -31.0249     15.268     -2.032      0.042     -60.951      -1.099\n",
      "==============================================================================\n",
      "Omnibus:                    96681.439   Durbin-Watson:                   1.966\n",
      "Prob(Omnibus):                  0.000   Jarque-Bera (JB):      35177656558.902\n",
      "Skew:                          56.085   Prob(JB):                         0.00\n",
      "Kurtosis:                    5355.866   Cond. No.                     1.65e+04\n",
      "==============================================================================\n",
      "\n",
      "Notes:\n",
      "[1] Standard Errors assume that the covariance matrix of the errors is correctly specified.\n",
      "[2] The condition number is large, 1.65e+04. This might indicate that there are\n",
      "strong multicollinearity or other numerical problems.\n"
     ]
    }
   ],
   "source": [
    "from statsmodels.formula.api import ols\n",
    "model = ols('y~x', red).fit()\n",
    "print(model.summary())"
   ]
  },
  {
   "cell_type": "markdown",
   "metadata": {},
   "source": [
    "### Prediction analysis of sales model : \n",
    "prediction sales amount = 186.8375+0.0684*comulative_purchase_amount + 62.6521*last_month_engage_1.0 + 8.9856 * days_since_last_order - 31.0249*lifecycle_C"
   ]
  },
  {
   "cell_type": "markdown",
   "metadata": {},
   "source": [
    "# 5 Understanding of the sales model\n"
   ]
  },
  {
   "cell_type": "markdown",
   "metadata": {},
   "source": [
    "- For every 1 increase in the user’s accumulated purchase amount,a sales return of 0.0684 can be achieved.\n",
    "\n",
    "- Users who have engaged in the last 30 days have increased their sales by 62.6521 compared to users who do not engage in activities.\n",
    "\n",
    "- Every time the number of days since the user’s last order is increased by 1 day, a sales return of RMB 8.9856 can be achieved. \n",
    "- Users who registered two years ago compared to registering one year ago and 6 months ago, the sales decreased by 31.0249. \n",
    "\n",
    "Note: The linear regression effect of this data is not good and it is only used for practicing the linear regression. "
   ]
  },
  {
   "cell_type": "code",
   "execution_count": null,
   "metadata": {},
   "outputs": [],
   "source": []
  }
 ],
 "metadata": {
  "kernelspec": {
   "display_name": "Python 3",
   "language": "python",
   "name": "python3"
  },
  "language_info": {
   "codemirror_mode": {
    "name": "ipython",
    "version": 3
   },
   "file_extension": ".py",
   "mimetype": "text/x-python",
   "name": "python",
   "nbconvert_exporter": "python",
   "pygments_lexer": "ipython3",
   "version": "3.8.8"
  }
 },
 "nbformat": 4,
 "nbformat_minor": 2
}
